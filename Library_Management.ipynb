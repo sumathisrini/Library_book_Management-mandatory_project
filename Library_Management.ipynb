{
 "cells": [
  {
   "cell_type": "markdown",
   "id": "0a9a9d9b",
   "metadata": {},
   "source": [
    "#  Library managment project....."
   ]
  },
  {
   "cell_type": "code",
   "execution_count": 76,
   "id": "050ccae9",
   "metadata": {},
   "outputs": [],
   "source": [
    "# importing necessary library\n",
    "\n",
    "from tkinter import *\n",
    "import sqlite3\n",
    "import tkinter.ttk as ttk\n",
    "import tkinter.messagebox as tkMassgeBox\n",
    "\n"
   ]
  },
  {
   "cell_type": "code",
   "execution_count": 77,
   "id": "631b865f",
   "metadata": {},
   "outputs": [],
   "source": [
    "# Establishing squlite connection\n",
    "\n",
    "def Database():\n",
    "    global conn,cursor\n",
    "    conn=sqlite3.connect('Library.db')\n",
    "    cursor=conn.cursor()\n",
    "    cursor.execute('CREATE TABLE IF NOT EXISTS book(b_id INTEGER PRIMARY KEY AUTOINCREMENT NOT NULL, Booktitle TEXT, Author TEXT,year INTEGER,ISBN INTEGER NOT NULL UNIQUE)')\n"
   ]
  },
  {
   "cell_type": "code",
   "execution_count": 78,
   "id": "f6d395d9",
   "metadata": {},
   "outputs": [],
   "source": [
    "# Adding book details\n",
    "\n",
    "def Add():\n",
    "    if str(t_Booktitle.get(1.0, 'end-1c'))==\"\" or str(t_Author.get(1.0, 'end-1c'))==\"\" or str(t_year.get(1.0, 'end-1c'))==\"\" or str(t_ISBN.get(1.0, 'end-1c'))==\"\":\n",
    "        l_disp_msg.config(text=\"Please enter all the fields\",fg=\"yellow\",bg=\"red\")\n",
    "    else:\n",
    "        Database()\n",
    "        cursor.execute('INSERT INTO book(Booktitle,Author,year,ISBN) values(?,?,?,?)',(t_Booktitle.get(1.0, 'end-1c'), t_Author.get(1.0, 'end-1c'),t_year.get(1.0, 'end-1c'),t_ISBN.get(1.0, 'end-1c')))\n",
    "        conn.commit()\n",
    "        t_Booktitle.delete(\"1.0\",\"end\")\n",
    "        t_Author.delete(\"1.0\",\"end\")\n",
    "        t_year.delete(\"1.0\",\"end\")\n",
    "        t_ISBN.delete(\"1.0\",\"end\")\n",
    "        cursor.close()\n",
    "        conn.close()\n",
    "        l_disp_msg.config(text=\"Record Inserted !\",fg=\"green\",bg=\"yellow\")\n",
    "        Disp_t()"
   ]
  },
  {
   "cell_type": "code",
   "execution_count": 79,
   "id": "bc4fc179",
   "metadata": {},
   "outputs": [],
   "source": [
    "# Display function\n",
    "\n",
    "def Display():\n",
    "    Disp_t()\n",
    "    l_disp_msg.config(text=\"Successfully fetched data!\",fg=\"yellow\",bg=\"green\")\n",
    "    "
   ]
  },
  {
   "cell_type": "code",
   "execution_count": 80,
   "id": "aa2b6bcc",
   "metadata": {},
   "outputs": [],
   "source": [
    "# A part of display function\n",
    "\n",
    "def Disp_t():\n",
    "    tree.delete(*tree.get_children())\n",
    "    Database()\n",
    "    cursor.execute(\"SELECT * FROM book ORDER BY Booktitle ASC\")\n",
    "    fetch=cursor.fetchall()\n",
    "    for data in fetch:\n",
    "        tree.insert('','end',values=(data[1],data[2],data[3],data[4]))\n",
    "    conn.close()"
   ]
  },
  {
   "cell_type": "code",
   "execution_count": 81,
   "id": "d955e5f0",
   "metadata": {},
   "outputs": [],
   "source": [
    "# Searching a book\n",
    "\n",
    "def Search():\n",
    "    global temp\n",
    "    \n",
    "    def dis(): #display function after search\n",
    "        t_Booktitle.delete(\"1.0\",\"end\")\n",
    "        t_Author.delete(\"1.0\",\"end\")\n",
    "        t_year.delete(\"1.0\",\"end\")\n",
    "        t_ISBN.delete(\"1.0\",\"end\")\n",
    "        tree.delete(*tree.get_children())\n",
    "        Database()\n",
    "        cursor.execute(temp)\n",
    "        fetch=cursor.fetchall()\n",
    "        if fetch:\n",
    "            for data in fetch:\n",
    "                tree.insert('','end',values=(data[1],data[2],data[3],data[4]))\n",
    "            l_disp_msg.config(text=\"Successfully fetched data!\",fg=\"yellow\",bg=\"green\")\n",
    "        else:\n",
    "            l_disp_msg.config(text=\"Book not found for given value \",fg=\"yellow\",bg=\"red\")\n",
    "        conn.close()    \n",
    "   \n",
    "    if str(t_Booktitle.get(1.0, 'end-1c'))!=\"\":\n",
    "        t=\"'\"+str(t_Booktitle.get(1.0, 'end-1c'))+\"'\"\n",
    "        temp=\"SELECT * FROM book where Booktitle = \"+t\n",
    "        dis()\n",
    "        \n",
    "    elif str(t_Author.get(1.0, 'end-1c'))!=\"\":\n",
    "        t=\"'\"+str(t_Author.get(1.0, 'end-1c'))+\"'\"\n",
    "        temp=\"SELECT * FROM book where Author = \"+t\n",
    "        dis()\n",
    "            \n",
    "    elif str(t_year.get(1.0, 'end-1c'))!=\"\":\n",
    "        t=str(t_year.get(1.0, 'end-1c'))\n",
    "        temp=\"SELECT * FROM book where year = \"+t\n",
    "        dis()\n",
    "        \n",
    "    elif str(t_ISBN.get(1.0, 'end-1c'))!=\"\":\n",
    "        t=str(t_ISBN.get(1.0, 'end-1c'))\n",
    "        temp=\"SELECT * FROM book where ISBN = \"+t\n",
    "        dis()\n",
    "    else:\n",
    "        l_disp_msg.config(text=\"Please enter a field for searching\",fg=\"yellow\",bg=\"red\")\n",
    "             "
   ]
  },
  {
   "cell_type": "code",
   "execution_count": 82,
   "id": "60c51e17",
   "metadata": {},
   "outputs": [],
   "source": [
    "# Deleting a book function\n",
    "\n",
    "def Delete():\n",
    "    if t_Booktitle.get(1.0, 'end-1c')==\"\":\n",
    "         l_disp_msg.config(text=\"Please enter Booktitle to search\",fg=\"yellow\",bg=\"red\")\n",
    "    else:\n",
    "        t=\"'\"+str(t_Booktitle.get(1.0, 'end-1c'))+\"'\"\n",
    "        temp=\"DELETE FROM book where Booktitle = \"+t\n",
    "        t_Booktitle.delete(\"1.0\",\"end\")\n",
    "        Database()\n",
    "        cursor.execute(temp)\n",
    "        conn.commit()\n",
    "        cursor.close()           \n",
    "        l_disp_msg.config(text=\"Successfully Deleted data!\",fg=\"yellow\",bg=\"green\")\n",
    "        Disp_t()         \n",
    "        \n",
    "    "
   ]
  },
  {
   "cell_type": "code",
   "execution_count": 83,
   "id": "7efcca4b",
   "metadata": {},
   "outputs": [],
   "source": [
    "# book issue function\n",
    "\n",
    "def Issue():\n",
    "    Database()\n",
    "    if t_ISBN.get(1.0, 'end-1c')==\"\":\n",
    "         l_disp_msg.config(text=\"Please enter ISBN NO to Issue\",fg=\"yellow\",bg=\"red\")\n",
    "    else:\n",
    "        t=str(t_ISBN.get(1.0, 'end-1c'))\n",
    "        t_ISBN.delete(\"1.0\",\"end\")\n",
    "        l.append(t)\n",
    "        for i in l:\n",
    "            temp=\"DELETE FROM book where ISBN = \"+i\n",
    "            cursor.execute(temp)   \n",
    "        l_disp_msg.config(text=\"Successfully Issued!\",fg=\"yellow\",bg=\"green\")\n",
    "      \n",
    "        tree.delete(*tree.get_children())\n",
    "        cursor.execute(\"SELECT * FROM book ORDER BY Booktitle ASC\")\n",
    "        fetch=cursor.fetchall()\n",
    "        for data in fetch:\n",
    "            tree.insert('','end',values=(data[1],data[2],data[3],data[4]))\n",
    "        conn.close()          \n",
    "    "
   ]
  },
  {
   "cell_type": "code",
   "execution_count": 84,
   "id": "6e56d5ab",
   "metadata": {},
   "outputs": [],
   "source": [
    "# Exit function\n",
    "def Exit():\n",
    "    result=tkMassgeBox.askquestion(\"Do you want to exit? (y/n)\",icon=\"warning\")\n",
    "    if result==\"yes\":\n",
    "        win.destroy()\n",
    "    "
   ]
  },
  {
   "cell_type": "code",
   "execution_count": 85,
   "id": "2aeda90f",
   "metadata": {},
   "outputs": [],
   "source": [
    "# Window creation\n",
    "\n",
    "win=Tk()\n",
    "win.title('A Library Application!')\n",
    "win.geometry('925x700')\n",
    "\n",
    "# frames declaration\n",
    "\n",
    "Top=Frame(win,width=800,height=50,bd=8,relief='raise',bg=\"blue\")\n",
    "Top.pack(side=TOP)\n",
    "Left=Frame(win,width=450,height=700,bd=8,relief='raise',bg=\"red\")\n",
    "Left.pack(side=LEFT)\n",
    "Right=Frame(win,width=350,height=700,bd=8,relief='raise',bg=\"yellow\")\n",
    "Right.pack(side=RIGHT)\n",
    "\n",
    "B_Form=Frame(Left,width=450,height=450)\n",
    "B_Form.pack(side=TOP)\n",
    "\n",
    "# button declaration\n",
    "\n",
    "Buttons=Frame(Left,width=450,height=150,bd=10,relief='raise')\n",
    "Buttons.pack(side=BOTTOM)"
   ]
  },
  {
   "cell_type": "code",
   "execution_count": 86,
   "id": "47dc546b",
   "metadata": {},
   "outputs": [],
   "source": [
    "# labels declartion\n",
    "\n",
    "l_title=Label(Top,width=800,font=(\"Helvetica\",20),text=\"..... Library Management Application.....\")\n",
    "l_title.pack()\n",
    "\n",
    "l_Booktitle=Label(B_Form,text=\"Booktitle:\",font=('arial',15),bd=15)\n",
    "l_Booktitle.grid(row=0,column=0,stick=\"e\")\n",
    "l_Author=Label(B_Form,text=\"Author:\",font=('arial',15),bd=15)\n",
    "l_Author.grid(row=1,column=0,stick=\"e\")\n",
    "l_year=Label(B_Form,text=\"Year:\",font=('arial',15),bd=15)\n",
    "l_year.grid(row=2,column=0,stick=\"e\")\n",
    "l_ISBN =Label(B_Form,text=\"ISBN :\",font=('arial',15),bd=15)\n",
    "l_ISBN.grid(row=3,column=0,stick=\"e\")\n",
    "\n",
    "l_disp_msg=Label(Buttons)\n",
    "l_disp_msg.pack(side=TOP)\n"
   ]
  },
  {
   "cell_type": "code",
   "execution_count": 87,
   "id": "fa451716",
   "metadata": {},
   "outputs": [],
   "source": [
    "\n",
    "# Text declaration\n",
    "\n",
    "t_Booktitle=Text(B_Form,height=1,width=30)\n",
    "t_Booktitle.grid(row=0,column=1)\n",
    "t_Author=Text(B_Form,height=1,width=30)\n",
    "t_Author.grid(row=1,column=1)\n",
    "t_year=Text(B_Form,height=1,width=30)\n",
    "t_year.grid(row=2,column=1)\n",
    "t_ISBN=Text(B_Form,height=1,width=30)\n",
    "t_ISBN.grid(row=3,column=1)\n"
   ]
  },
  {
   "cell_type": "code",
   "execution_count": 88,
   "id": "9bc5837b",
   "metadata": {},
   "outputs": [],
   "source": [
    "# Button Widget:-\n",
    "\n",
    "b_dis=Button(Buttons,width=10,text=\"Display\",command=Display)\n",
    "b_dis.pack(side=LEFT)\n",
    "b_ser=Button(Buttons,width=10,text=\"Search\",command=Search)\n",
    "b_ser.pack(side=LEFT)\n",
    "b_add=Button(Buttons,width=10,text=\"Add\",command=Add)\n",
    "b_add.pack(side=LEFT)\n",
    "global l # used to store issued book list temporary\n",
    "l=[]\n",
    "b_isu=Button(Buttons,width=10,text=\"Issue\",command=Issue)\n",
    "b_isu.pack(side=LEFT)\n",
    "b_del=Button(Buttons,width=10,text=\"Delete\",command=Delete)\n",
    "b_del.pack(side=LEFT)\n",
    "b_exit=Button(Buttons,width=10,text=\"Exit\",command=Exit)\n",
    "b_exit.pack(side=LEFT)\n"
   ]
  },
  {
   "cell_type": "code",
   "execution_count": 89,
   "id": "bcfe2b57",
   "metadata": {},
   "outputs": [],
   "source": [
    "# creation of tree and scrollbar\n",
    "\n",
    "tree=ttk.Treeview(Right,columns=(\"Booktitle\",\"Author\",\"year\",\"ISBN\"))\n",
    "\n",
    "s_bar_y=Scrollbar(Right,orient=VERTICAL)# yaxis creation\n",
    "s_bar_y.config(command=tree.yview)\n",
    "s_bar_y.pack(side=RIGHT,fill=Y)\n",
    "\n",
    "s_bar_x=Scrollbar(Right,orient=HORIZONTAL)# xaxis creation\n",
    "s_bar_x.config(command=tree.xview)\n",
    "s_bar_x.pack(side=BOTTOM,fill=X)\n",
    "\n",
    "\n",
    "tree.heading(\"Booktitle\",text=\"Booktitle\",anchor=W)\n",
    "tree.heading(\"Author\",text=\"Author\",anchor=W)\n",
    "tree.heading(\"year\",text=\"Year\",anchor=W)\n",
    "tree.heading(\"ISBN\",text=\"ISBN\",anchor=W)\n",
    "\n",
    "tree.column(\"#0\",minwidth=0,width=0)\n",
    "tree.column(\"#1\",minwidth=0,width=120)\n",
    "tree.column(\"#2\",minwidth=0,width=120)\n",
    "tree.column(\"#3\",minwidth=0,width=50)\n",
    "tree.column(\"#4\",minwidth=0,width=50)\n",
    "\n",
    "tree.pack()"
   ]
  },
  {
   "cell_type": "code",
   "execution_count": 90,
   "id": "af57ef57",
   "metadata": {},
   "outputs": [],
   "source": [
    "# Main loop \n",
    "if __name__=='__main__':\n",
    "   \n",
    "    win.mainloop()"
   ]
  },
  {
   "cell_type": "code",
   "execution_count": null,
   "id": "da76671f",
   "metadata": {},
   "outputs": [],
   "source": []
  },
  {
   "cell_type": "code",
   "execution_count": null,
   "id": "c9be3fa4",
   "metadata": {},
   "outputs": [],
   "source": [
    "\n"
   ]
  },
  {
   "cell_type": "code",
   "execution_count": null,
   "id": "79bc4493",
   "metadata": {},
   "outputs": [],
   "source": []
  }
 ],
 "metadata": {
  "kernelspec": {
   "display_name": "Python 3",
   "language": "python",
   "name": "python3"
  },
  "language_info": {
   "codemirror_mode": {
    "name": "ipython",
    "version": 3
   },
   "file_extension": ".py",
   "mimetype": "text/x-python",
   "name": "python",
   "nbconvert_exporter": "python",
   "pygments_lexer": "ipython3",
   "version": "3.8.8"
  }
 },
 "nbformat": 4,
 "nbformat_minor": 5
}
